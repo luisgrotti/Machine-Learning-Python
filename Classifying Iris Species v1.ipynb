{
  "nbformat": 4,
  "nbformat_minor": 0,
  "metadata": {
    "colab": {
      "name": "Classifying Iris Species v1.ipynb",
      "provenance": [],
      "collapsed_sections": []
    },
    "kernelspec": {
      "name": "python3",
      "display_name": "Python 3"
    }
  },
  "cells": [
    {
      "cell_type": "markdown",
      "metadata": {
        "id": "-O4VH8RBJs-b",
        "colab_type": "text"
      },
      "source": [
        "# Classifying Iris Species \n",
        "### Luis Grotti - September 2019"
      ]
    },
    {
      "cell_type": "markdown",
      "metadata": {
        "id": "IFIYQZ5AxMsW",
        "colab_type": "text"
      },
      "source": [
        "Iris is a genus of flowering plants that contains between 260 and 300 species. \n",
        "\n",
        "American botanist Edgar Anderson collected morphological information from three Iris species: setosa, virginica and versicolor. He investigated the length and width of the sepals and petals and gathered the values together in a dataset. This set is called today 'Iris Dataset' and contains 150 samples, 50 per each species.\n",
        "\n",
        "[![](https://s3.amazonaws.com/assets.datacamp.com/blog_assets/Machine+Learning+R/iris-machinelearning.png 'https://www.datacamp.com/community/tutorials/machine-learning-in-r')](https://www.datacamp.com/community/tutorials/machine-learning-in-r')\n",
        "\n",
        "Based on this dataset, statistician and biologist Ronald Fisher developed a model to distinguish one species from another. Here we will use our Data Science skills to build a model that can learn from Iris dataset and predict Iris species for new samples. We will use the supervised machine learning algorithm called K-Nearest Neighborhood (**K-NN** from now on). Let's get started."
      ]
    },
    {
      "cell_type": "markdown",
      "metadata": {
        "id": "jnewTlWozrmm",
        "colab_type": "text"
      },
      "source": [
        "---\n",
        "\n",
        "First of all, let's import the dependencies required in this notebook."
      ]
    },
    {
      "cell_type": "code",
      "metadata": {
        "id": "_I_6tCMhJIPv",
        "colab_type": "code",
        "colab": {}
      },
      "source": [
        "import pandas as pd # handle dataframes\n",
        "import seaborn as sns # handle plot\n",
        "import numpy as np # handle arrays\n",
        "import matplotlib.pyplot as plt\n",
        "from sklearn import datasets # numpy datasets\n",
        "from sklearn.neighbors import KNeighborsClassifier # K-Nearest Neigborhood class\n",
        "from sklearn.model_selection import train_test_split"
      ],
      "execution_count": 0,
      "outputs": []
    },
    {
      "cell_type": "markdown",
      "metadata": {
        "id": "SJUfnGr10jNx",
        "colab_type": "text"
      },
      "source": [
        "Now, let's extract the Iris Dataset from Numpy."
      ]
    },
    {
      "cell_type": "code",
      "metadata": {
        "id": "nL8SZIKyKbbb",
        "colab_type": "code",
        "outputId": "9c21583e-c450-49cc-cb58-2399b5542a50",
        "colab": {
          "base_uri": "https://localhost:8080/",
          "height": 35
        }
      },
      "source": [
        "iris_dict = datasets.load_iris()\n",
        "iris_dict.keys()"
      ],
      "execution_count": 0,
      "outputs": [
        {
          "output_type": "execute_result",
          "data": {
            "text/plain": [
              "dict_keys(['data', 'target', 'target_names', 'DESCR', 'feature_names', 'filename'])"
            ]
          },
          "metadata": {
            "tags": []
          },
          "execution_count": 2
        }
      ]
    },
    {
      "cell_type": "markdown",
      "metadata": {
        "id": "7dJADCbf1qeK",
        "colab_type": "text"
      },
      "source": [
        "As we can see, Numpy provides a dictionary containing data, target, description and so on. Let's explore what we just got."
      ]
    },
    {
      "cell_type": "code",
      "metadata": {
        "id": "v5X4Xiu3f38b",
        "colab_type": "code",
        "outputId": "7c488ff1-3d0c-4385-cf88-4ec6967bb513",
        "colab": {
          "base_uri": "https://localhost:8080/",
          "height": 72
        }
      },
      "source": [
        "print('Features: {}'.format(iris_dict.feature_names))\n",
        "print('Species: {}'.format(iris_dict.target_names))\n",
        "print('Species label: {}'.format(np.unique(iris_dict.target)))"
      ],
      "execution_count": 0,
      "outputs": [
        {
          "output_type": "stream",
          "text": [
            "Features: ['sepal length (cm)', 'sepal width (cm)', 'petal length (cm)', 'petal width (cm)']\n",
            "Species: ['setosa' 'versicolor' 'virginica']\n",
            "Species label: [0 1 2]\n"
          ],
          "name": "stdout"
        }
      ]
    },
    {
      "cell_type": "markdown",
      "metadata": {
        "id": "9FaKoAPEhMGl",
        "colab_type": "text"
      },
      "source": [
        "Now let's cast **data** and **target** into dataframes and investigate them. "
      ]
    },
    {
      "cell_type": "code",
      "metadata": {
        "id": "uvh07fC4iIQR",
        "colab_type": "code",
        "outputId": "3aea8655-11b3-4b72-e6d1-5ee912bd9550",
        "colab": {
          "base_uri": "https://localhost:8080/",
          "height": 300
        }
      },
      "source": [
        "iris_features = pd.DataFrame(data=iris_dict.data, columns=iris_dict.feature_names)\n",
        "iris_species = pd.DataFrame(data=iris_dict.target, columns=['species'])\n",
        "\n",
        "iris_features.describe()"
      ],
      "execution_count": 0,
      "outputs": [
        {
          "output_type": "execute_result",
          "data": {
            "text/html": [
              "<div>\n",
              "<style scoped>\n",
              "    .dataframe tbody tr th:only-of-type {\n",
              "        vertical-align: middle;\n",
              "    }\n",
              "\n",
              "    .dataframe tbody tr th {\n",
              "        vertical-align: top;\n",
              "    }\n",
              "\n",
              "    .dataframe thead th {\n",
              "        text-align: right;\n",
              "    }\n",
              "</style>\n",
              "<table border=\"1\" class=\"dataframe\">\n",
              "  <thead>\n",
              "    <tr style=\"text-align: right;\">\n",
              "      <th></th>\n",
              "      <th>sepal length (cm)</th>\n",
              "      <th>sepal width (cm)</th>\n",
              "      <th>petal length (cm)</th>\n",
              "      <th>petal width (cm)</th>\n",
              "    </tr>\n",
              "  </thead>\n",
              "  <tbody>\n",
              "    <tr>\n",
              "      <th>count</th>\n",
              "      <td>150.000000</td>\n",
              "      <td>150.000000</td>\n",
              "      <td>150.000000</td>\n",
              "      <td>150.000000</td>\n",
              "    </tr>\n",
              "    <tr>\n",
              "      <th>mean</th>\n",
              "      <td>5.843333</td>\n",
              "      <td>3.057333</td>\n",
              "      <td>3.758000</td>\n",
              "      <td>1.199333</td>\n",
              "    </tr>\n",
              "    <tr>\n",
              "      <th>std</th>\n",
              "      <td>0.828066</td>\n",
              "      <td>0.435866</td>\n",
              "      <td>1.765298</td>\n",
              "      <td>0.762238</td>\n",
              "    </tr>\n",
              "    <tr>\n",
              "      <th>min</th>\n",
              "      <td>4.300000</td>\n",
              "      <td>2.000000</td>\n",
              "      <td>1.000000</td>\n",
              "      <td>0.100000</td>\n",
              "    </tr>\n",
              "    <tr>\n",
              "      <th>25%</th>\n",
              "      <td>5.100000</td>\n",
              "      <td>2.800000</td>\n",
              "      <td>1.600000</td>\n",
              "      <td>0.300000</td>\n",
              "    </tr>\n",
              "    <tr>\n",
              "      <th>50%</th>\n",
              "      <td>5.800000</td>\n",
              "      <td>3.000000</td>\n",
              "      <td>4.350000</td>\n",
              "      <td>1.300000</td>\n",
              "    </tr>\n",
              "    <tr>\n",
              "      <th>75%</th>\n",
              "      <td>6.400000</td>\n",
              "      <td>3.300000</td>\n",
              "      <td>5.100000</td>\n",
              "      <td>1.800000</td>\n",
              "    </tr>\n",
              "    <tr>\n",
              "      <th>max</th>\n",
              "      <td>7.900000</td>\n",
              "      <td>4.400000</td>\n",
              "      <td>6.900000</td>\n",
              "      <td>2.500000</td>\n",
              "    </tr>\n",
              "  </tbody>\n",
              "</table>\n",
              "</div>"
            ],
            "text/plain": [
              "       sepal length (cm)  sepal width (cm)  petal length (cm)  petal width (cm)\n",
              "count         150.000000        150.000000         150.000000        150.000000\n",
              "mean            5.843333          3.057333           3.758000          1.199333\n",
              "std             0.828066          0.435866           1.765298          0.762238\n",
              "min             4.300000          2.000000           1.000000          0.100000\n",
              "25%             5.100000          2.800000           1.600000          0.300000\n",
              "50%             5.800000          3.000000           4.350000          1.300000\n",
              "75%             6.400000          3.300000           5.100000          1.800000\n",
              "max             7.900000          4.400000           6.900000          2.500000"
            ]
          },
          "metadata": {
            "tags": []
          },
          "execution_count": 4
        }
      ]
    },
    {
      "cell_type": "markdown",
      "metadata": {
        "id": "UTcyEnNBkfqG",
        "colab_type": "text"
      },
      "source": [
        "As expected we have 150 samples. Also, no missing values was spotted. Let's check how many samples we have for each species."
      ]
    },
    {
      "cell_type": "code",
      "metadata": {
        "id": "sInQ0mcChmP7",
        "colab_type": "code",
        "outputId": "e5eb2e92-2afb-4659-e060-7c23bb6cff10",
        "colab": {
          "base_uri": "https://localhost:8080/",
          "height": 90
        }
      },
      "source": [
        "iris_species['species'].value_counts()"
      ],
      "execution_count": 0,
      "outputs": [
        {
          "output_type": "execute_result",
          "data": {
            "text/plain": [
              "2    50\n",
              "1    50\n",
              "0    50\n",
              "Name: species, dtype: int64"
            ]
          },
          "metadata": {
            "tags": []
          },
          "execution_count": 5
        }
      ]
    },
    {
      "cell_type": "markdown",
      "metadata": {
        "id": "NsfnGxz44PYk",
        "colab_type": "text"
      },
      "source": [
        "That's great! 50 samples per species as expected. Let's see now how the features behave in each species."
      ]
    },
    {
      "cell_type": "code",
      "metadata": {
        "id": "XuJvZuVO2OHr",
        "colab_type": "code",
        "outputId": "239f0c81-73cc-4379-bd3a-51434c6c0ec1",
        "colab": {
          "base_uri": "https://localhost:8080/",
          "height": 387
        }
      },
      "source": [
        "iris_boxplot = iris_features[:]\n",
        "iris_boxplot = iris_boxplot.join(iris_species)\n",
        "\n",
        "for i, row in iris_boxplot.iterrows():\n",
        "    if row['species'] == 0:\n",
        "      iris_boxplot.loc[i,'species'] = 'setosa'\n",
        "    elif row['species'] == 1:\n",
        "      iris_boxplot.loc[i,'species'] = 'versicolor'\n",
        "    else:\n",
        "      iris_boxplot.loc[i,'species'] = 'virginica'\n",
        "\n",
        "iris_boxplot = pd.melt(iris_boxplot, id_vars='species', value_name='cm', var_name='feature')\n",
        "      \n",
        "sns.catplot(x = 'species', y= 'cm', hue='feature', data=iris_boxplot, kind='strip', dodge=True, jitter=True, alpha=.25)"
      ],
      "execution_count": 0,
      "outputs": [
        {
          "output_type": "execute_result",
          "data": {
            "text/plain": [
              "<seaborn.axisgrid.FacetGrid at 0x7f2eab4044a8>"
            ]
          },
          "metadata": {
            "tags": []
          },
          "execution_count": 6
        },
        {
          "output_type": "display_data",
          "data": {
            "image/png": "[encoded data removed]",
            "text/plain": [
              "<Figure size 483.75x360 with 1 Axes>"
            ]
          },
          "metadata": {
            "tags": []
          }
        }
      ]
    },
    {
      "cell_type": "markdown",
      "metadata": {
        "id": "clteCnQq2Gyy",
        "colab_type": "text"
      },
      "source": [
        "That's quite interesting, each species has unique characteristics:\n",
        "\n",
        "* Petal length are smaller than sepals width for setosa. For versicolor and virginica happen the opposite;\n",
        "* Values of petals length and petals width are quite different in each species;\n",
        "* Sepals width and petal length are very close in versicolor;\n",
        "\n",
        "Based on that, we can see that this dataset can help us to classify new samples and we can teach K-NN algorithm to do this. We will split the dataset into **training** and **test** sets (70%/30%). Train dataset will be used to train K-NN algorithm and the test set will be used to evaluate its accuracy."
      ]
    },
    {
      "cell_type": "code",
      "metadata": {
        "id": "d_84zP5O42cU",
        "colab_type": "code",
        "outputId": "46651224-13ea-4c56-a152-9ec84705138d",
        "colab": {
          "base_uri": "https://localhost:8080/",
          "height": 54
        }
      },
      "source": [
        "x_train, x_test, y_train, y_test = train_test_split(iris_dict.data, iris_dict.target, test_size=.3, random_state=0, shuffle=True)\n",
        "print('training set size: {}'.format(x_train.shape))\n",
        "print('test set size: {}'.format(x_test.shape))"
      ],
      "execution_count": 0,
      "outputs": [
        {
          "output_type": "stream",
          "text": [
            "training set size: (105, 4)\n",
            "test set size: (45, 4)\n"
          ],
          "name": "stdout"
        }
      ]
    },
    {
      "cell_type": "markdown",
      "metadata": {
        "id": "mtYF8EVW5YnM",
        "colab_type": "text"
      },
      "source": [
        "\n",
        "K-NN will classify new samples based on the K nearest neighbors in training set. Note that distance plays a key role in this algorithm.\n",
        "\n",
        "We will use **K=1** and **euclidean distance** as *metric* to train our model (you can find more metrics [here](https://scikit-learn.org/stable/modules/generated/sklearn.neighbors.DistanceMetric.html)). Let's do it!"
      ]
    },
    {
      "cell_type": "code",
      "metadata": {
        "id": "FS7YqosJ6VrJ",
        "colab_type": "code",
        "outputId": "df2eb0e3-fdce-4754-9989-859ebef30c27",
        "colab": {
          "base_uri": "https://localhost:8080/",
          "height": 72
        }
      },
      "source": [
        "knn = KNeighborsClassifier(n_neighbors=1, metric='euclidean')\n",
        "knn.fit(x_train, y_train)"
      ],
      "execution_count": 0,
      "outputs": [
        {
          "output_type": "execute_result",
          "data": {
            "text/plain": [
              "KNeighborsClassifier(algorithm='auto', leaf_size=30, metric='euclidean',\n",
              "                     metric_params=None, n_jobs=None, n_neighbors=1, p=2,\n",
              "                     weights='uniform')"
            ]
          },
          "metadata": {
            "tags": []
          },
          "execution_count": 8
        }
      ]
    },
    {
      "cell_type": "markdown",
      "metadata": {
        "id": "d8RUoQgY6kzV",
        "colab_type": "text"
      },
      "source": [
        "The model is trained! Now let's predict species for test set."
      ]
    },
    {
      "cell_type": "code",
      "metadata": {
        "id": "wivUngFY6yqw",
        "colab_type": "code",
        "outputId": "519cf6c8-b0a5-41a5-faa9-568959fcf93f",
        "colab": {
          "base_uri": "https://localhost:8080/",
          "height": 72
        }
      },
      "source": [
        "knn.predict(x_test)"
      ],
      "execution_count": 0,
      "outputs": [
        {
          "output_type": "execute_result",
          "data": {
            "text/plain": [
              "array([2, 1, 0, 2, 0, 2, 0, 1, 1, 1, 2, 1, 1, 1, 1, 0, 1, 1, 0, 0, 2, 1,\n",
              "       0, 0, 2, 0, 0, 1, 1, 0, 2, 1, 0, 2, 2, 1, 0, 2, 1, 1, 2, 0, 2, 0,\n",
              "       0])"
            ]
          },
          "metadata": {
            "tags": []
          },
          "execution_count": 9
        }
      ]
    },
    {
      "cell_type": "markdown",
      "metadata": {
        "id": "kws9vYmv69lH",
        "colab_type": "text"
      },
      "source": [
        "We can evaluate how well model made the predictions using **.score**."
      ]
    },
    {
      "cell_type": "code",
      "metadata": {
        "id": "EYCcndog7TMb",
        "colab_type": "code",
        "outputId": "b5ca54c4-f701-4c0c-826a-be673873ec26",
        "colab": {
          "base_uri": "https://localhost:8080/",
          "height": 35
        }
      },
      "source": [
        "knn.score(x_test, y_test)"
      ],
      "execution_count": 0,
      "outputs": [
        {
          "output_type": "execute_result",
          "data": {
            "text/plain": [
              "0.9777777777777777"
            ]
          },
          "metadata": {
            "tags": []
          },
          "execution_count": 10
        }
      ]
    },
    {
      "cell_type": "markdown",
      "metadata": {
        "id": "iZt-9fSR7Wwg",
        "colab_type": "text"
      },
      "source": [
        "It means that our model made a correct classification for 97% of our test set.  "
      ]
    },
    {
      "cell_type": "markdown",
      "metadata": {
        "id": "uQqjVSeI9uGh",
        "colab_type": "text"
      },
      "source": [
        "---\n",
        "\n",
        "This is how K-NN algorithm works.\n",
        "\n",
        "In the future we can go deeper and try to improve the model by using some strategies like cross validation, different numbers for K and different metrics."
      ]
    }
  ]
}